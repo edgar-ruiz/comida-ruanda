{
 "cells": [
  {
   "cell_type": "markdown",
   "metadata": {},
   "source": [
    "## 1. Importando datos sobre los precios\n",
    "<p>¿Por qué algunos alientos son más caros en otras ubicaciones? En este proyecto, exploraremos series sobre los precios de los alimentos en Ruanda de las bases del <a href=\"https://data.humdata.org/dataset/wfp-food-prices\">Programa Humanitario de la Organización de las Naciones Unidas</a>. La agricultura representa más del 30% de la economía de Ruanda y más del 60% de sus ingresos de exportación (<a href=\"https://www.cia.gov/library/publications/the-world-factbook/geos/rw.html\">CIA Factbook</a>), así que el precio de los alimentos es muy importante para el sustento de muchos ruandeses.</p>\n",
    "<p>El siguiente mapa muestra la distribución territorial de Ruanda, dividiéndola en cinco regiones administratibas: El área central alrededor de Kigali, la ciudad capítal, y las otras al Norte, Sur Este y Oeste.</p>\n",
    "<p><img src=\"https://assets.datacamp.com/production/project_515/img/RwandaGeoProvinces.png\" alt=\"Un mapa de las cinco regiones administrativas de Ruanda\"></p>\n",
    "<p>En este Jupyter Notebook vamos a importar, manipular y visualizar datos sobre los precios de la papa en Ruanda. Posteriormente, incluiremos en nuestro análisis el uso de funciones para facilitar su réplica en los precios de otros alimentos.</p>"
   ]
  },
  {
   "cell_type": "code",
   "execution_count": null,
   "metadata": {},
   "outputs": [],
   "source": [
    "# Carga la paquetería dplyr \n",
    "....\n",
    "....\n",
    "\n",
    "# Importa los datos de \"datos/papas.csv\" \n",
    "precios_papas <- ....\n",
    "\n",
    "# Utiliza glimpse() en el nuevo objeto creado\n",
    "...."
   ]
  },
  {
   "cell_type": "markdown",
   "metadata": {},
   "source": [
    "## 2. Dejemos los datos que usaremos\n",
    "<p>Muchas de las columnas de nuestros datos en <code>precios_papa</code> no son muy útiles para nuestro análisis. Por ejemplo, la variable <code>adm0_name</code> siempre tiene el valor <code>\"Rwanda\"</code>, y <code>cur_name</code> tiene solo valores <code>\"RWF\"</code>. (Como una abreviatura en inglés del franco ruandés. Como contexto, con el tipo de cambio de junio de 2020, un peso mexicano es igual a 42 francos ruandeces.) Del mismo modo, no necesitamos para nada las columnas de ID o la fuente de los datos.</p>\n",
    "<p>Incluso las columnas que necesitamos tienen nombres poco útiles. Por ejemplo, <code>adm1_name</code> no es tan claro como <code>region</code> y <code>mkt_name</code> puede ser renombrada como <code>mercado</code>. Uno de los principales errores en el análisis de datos es no entender lo que significa una variable, por lo que nombrarla claramente es una forma útil de evitar cualquier equivocación.  Un consejo útil es que cualquier variable que incluya una unidad, debe incluir dicha medida en el nombre de la variable. Aquí, los precios se dan en francos ruandeses, por lo que <code>precio_rwf</code> es un buen nombre.</p>"
   ]
  },
  {
   "cell_type": "code",
   "execution_count": null,
   "metadata": {},
   "outputs": [],
   "source": [
    "# Selecciona las variables de interes y renombra\n",
    "# las que necesiten un mejor identificador puedes\n",
    "# hacerlo con dplyr::select() y dplyr::mutate()\n",
    "precios_papas_2 <- ....\n",
    "\n",
    "# Revísalo con glimpse()\n",
    "...."
   ]
  },
  {
   "cell_type": "markdown",
   "metadata": {},
   "source": [
    "## 3. Limpia tu base\n",
    "<p>Como suele ser el caso, los datos que se nos dan no están aún en la forma que nos gustaría. Por ejemplo, en el <code>glimpse()</code> anterior podemos observar que el mes y el año se dieron como <code>int</code>. Como realizaremos algunos análisis de series de tiempo, sería útil si se proporcionaran como datos de tipo fecha. Antes de que podamos analizar los datos, necesitamos limpiarlos.</p>"
   ]
  },
  {
   "cell_type": "code",
   "execution_count": null,
   "metadata": {},
   "outputs": [],
   "source": [
    "# Carga lubridate\n",
    "....\n",
    "\n",
    "# Convierte las variables mp_month y mp_year a fechas\n",
    "precios_papas_limpio <- ....\n",
    "\n",
    "# Revísalo con glimpse()\n",
    "...."
   ]
  },
  {
   "cell_type": "markdown",
   "metadata": {},
   "source": [
    "## 4. Comer solo papas no es una dieta balanceada\n",
    "<p>Aunque la versatilidad de las papas es muy amplia, con su capacidad de hervirse, asarse, machacarse o freirse, la gente de Ruanda tiene gustos culinarios más variados. ¡Eso significa que tendremos que analizar algunos otros tipos de alimentos!</p>\n",
    "<p>Si queremos hacer una tarea similar muchas veces, podríamos simplemente cortar y pegar nuestro código y cambiar pequeños pedazos aquí y allá. Esta es una idea terrible, ya que cambiar el código en un lugar no lo mantiene actualizado en los otros lugares, y rápidamente terminamos con muchos errores en nuestro script.</p>\n",
    "<p>Una mejor idea es escribir una función. De esa forma evitamos errores de cortar y pegar y podemos tener un código más legible.</p>"
   ]
  },
  {
   "cell_type": "code",
   "execution_count": null,
   "metadata": {},
   "outputs": [],
   "source": [
    "# Cambia el código de abajo a una función que de argumento\n",
    "# utilice el nombre del archivo por cargar\n",
    "# Nombra la función fx_carga_limpia\n",
    "\n",
    "precios_papas <- read.csv(\"datos/papas.csv\",\n",
    "                          stringsAsFactors=FALSE)\n",
    "\n",
    "precios_papas_2 <- precios_papas %>% \n",
    "  dplyr::rename(\n",
    "    region = adm1_name, \n",
    "    mercado = mkt_name,\n",
    "    bien = cm_name,\n",
    "    mes = mp_month,\n",
    "    anio = mp_year,\n",
    "    precio_rwf = mp_price\n",
    "  )\n",
    "\n",
    "precios_papas_limpios <- precios_papas_2 %>% \n",
    "  mutate(\n",
    "    fecha = ymd(paste(anio, mes, \"01\"))\n",
    "  ) %>% \n",
    "  select(-mes, -anio)\n",
    "\n",
    "# Pruébala en otro archivo\n",
    "precios_chicharos <- fx_carga_limpia(...)\n",
    "glimpse(precios_chicharos)"
   ]
  },
  {
   "cell_type": "markdown",
   "metadata": {},
   "source": [
    "## 5. Grafica el precio de las papas\n",
    "<p>Un gran primer paso en cualquier análisis de datos es observar su evolución. En este caso, tenemos algunos precios y tenemos algunas fechas, por lo que lo obvio es ver cómo esos precios cambian con el tiempo.</p>"
   ]
  },
  {
   "cell_type": "code",
   "execution_count": null,
   "metadata": {},
   "outputs": [],
   "source": [
    "# Carga ggplot2\n",
    "....\n",
    "\n",
    "# Grafica una serie de tiempo del precio separando por\n",
    "# grupo en aes(group=mercado) cada categoría \n",
    "...."
   ]
  },
  {
   "cell_type": "markdown",
   "metadata": {},
   "source": [
    "## 6. Necesitamos muchos gráficos\n",
    "<p>Existe una leve tendencia en los precios de la papa a aumentar hasta 2013, después de lo cual se estabilizaron. Sin embargo, lo más llamativo es la estacionalidad: los precios son más bajos alrededor de diciembre y enero, y tienen un pico alrededor de agosto. Algunos años también muestran un segundo pico alrededor de abril o mayo.</p>\n",
    "<p>Al igual que con el código de importación y limpieza, si queremos hacer muchos gráficos similares, necesitamos convertir el código que escibiste en una función.</p>"
   ]
  },
  {
   "cell_type": "code",
   "execution_count": null,
   "metadata": {},
   "outputs": [],
   "source": [
    "# Convierte este código en la función\n",
    "# Nómbrala fx_grafica()\n",
    "precios_papas_limpios %>% \n",
    "  ggplot(aes(fecha, precio_rwf, group = mercado)) +\n",
    "  geom_line(alpha = 0.2) +\n",
    "  labs(title=\"Evolución del precio (papas)\")\n",
    "\n",
    "# Trata de usar la gráfica en los datos de chícharos\n",
    "...."
   ]
  },
  {
   "cell_type": "markdown",
   "metadata": {},
   "source": [
    "## 7. Utiliza una función dentro de tu función\n",
    "<p>Vamos a automatizar el proceso de graficación de cada alimento. Primero debemos crear una nueva función (<code>fx_final()</code>) que nos permita hacer ambas partes del proceso.</p>"
   ]
  },
  {
   "cell_type": "code",
   "execution_count": null,
   "metadata": {},
   "outputs": [],
   "source": [
    "# Utiliza fx_carga_limpia() y fx_grafica en\n",
    "# un nueva función\n",
    "fx_final <- function(...){\n",
    "    ...\n",
    "}\n",
    "\n",
    "# Aplica tu nueva función a la base \"datos/yuca.csv\"\n",
    "fx_final(\"yuca.csv\")"
   ]
  },
  {
   "cell_type": "markdown",
   "metadata": {},
   "source": [
    "## 8. Automaticemos la graficación\n",
    "<p>Utiliza las funciones de <code>purrr</code> para crear una gráfica de todas las bases que aparecen en la carpeta \"datos\". Recuerda que puedes obtener todos los archivos que se encuentran en dicha carpeta con <code>list.files(\"datos\")</code>.</p>"
   ]
  },
  {
   "cell_type": "code",
   "execution_count": null,
   "metadata": {},
   "outputs": [],
   "source": [
    "# Crea una gráfica para cada archivo en \"datos\"\n",
    "..."
   ]
  }
 ],
 "metadata": {
  "kernelspec": {
   "display_name": "R",
   "language": "R",
   "name": "ir"
  },
  "language_info": {
   "codemirror_mode": "r",
   "file_extension": ".r",
   "mimetype": "text/x-r-source",
   "name": "R",
   "pygments_lexer": "r",
   "version": "3.6.3"
  }
 },
 "nbformat": 4,
 "nbformat_minor": 4
}
